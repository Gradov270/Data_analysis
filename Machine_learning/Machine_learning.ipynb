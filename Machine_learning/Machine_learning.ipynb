{
 "cells": [
  {
   "cell_type": "markdown",
   "metadata": {},
   "source": [
    "# Проект"
   ]
  },
  {
   "cell_type": "markdown",
   "metadata": {},
   "source": [
    "<b>Описание проекта:</b> Сеть фитнес-центров «Культурист-датасаентист» разрабатывает стратегию взаимодействия с клиентами на основе аналитических данных. Распространённая проблема фитнес-клубов и других сервисов — отток клиентов. Чтобы бороться с оттоком, отдел по работе с клиентами «Культуриста-датасаентиста» перевёл в электронный вид множество клиентских анкет. Основная задача — провести анализ и подготовить план действий по удержанию клиентов."
   ]
  },
  {
   "cell_type": "markdown",
   "metadata": {},
   "source": [
    "<b>Цель:</b> построить модель по предсказанию факта оттока клиентов на основании их активности, пола, местоположения рядом с фитнес-клубом и другими параметрами.\n",
    "<p>\n",
    "    <b>Для достижения поставленной цели были сформулированы следующие задачи:</b> <p>\n",
    "1. Загрузить данные клиентской базы.<p>\n",
    "2. Подготовить данные (проверить наличие пропусков, аномалий).<p>\n",
    "3. Провести исследовательский анализ данных.<p>\n",
    "4. Построить модель прогнозирования оттока клиентов (задача: классификация (обучение с учителем)).<p>\n",
    "5. Оценить модель по качеству предсказания модели.<p>\n",
    "5. Сделать кластеризацию данных.<p>\n",
    "6. Сформулировать выводы и сделать базовые рекомендации по работе с клиентами.<p>"
   ]
  },
  {
   "cell_type": "markdown",
   "metadata": {},
   "source": [
    "# Описание датафрейма"
   ]
  },
  {
   "cell_type": "markdown",
   "metadata": {},
   "source": [
    "Данные клиента за предыдущий до проверки факта оттока месяц:<p>\n",
    "<b>'gender'</b> — пол;<p>\n",
    "<b>'Near_Location'</b> — проживание или работа в районе, где находится фитнес-центр;<p>\n",
    "<b>'Partner'</b> — сотрудник компании-партнёра клуба (сотрудничество с компаниями, чьи сотрудники могут получать скидки на абонемент — в таком случае фитнес-центр хранит информацию о работодателе клиента);<p>\n",
    "<b>Promo_friends</b> — факт первоначальной записи в рамках акции «приведи друга» (использовал промо-код от знакомого при оплате первого абонемента);<p>\n",
    "<b>'Phone'</b> — наличие контактного телефона;<p>\n",
    "<b>'Age'</b> — возраст;<p>\n",
    "<b>'Lifetime'</b> — время с момента первого обращения в фитнес-центр (в месяцах).<p>\n",
    "Информация на основе журнала посещений, покупок и информация о текущем статусе абонемента клиента:<p>\n",
    "<b>'Contract_period'</b> — длительность текущего действующего абонемента (месяц, 6 месяцев, год);<p>\n",
    "<b>'Month_to_end_contract'</b> — срок до окончания текущего действующего абонемента (в месяцах);<p>\n",
    "<b>'Group_visits'</b> — факт посещения групповых занятий;<p>\n",
    "<b>'Avg_class_frequency_total'</b> — средняя частота посещений в неделю за все время с начала действия абонемента;<p>\n",
    "<b>'Avg_class_frequency_current_month'</b> — средняя частота посещений в неделю за предыдущий месяц;<p>\n",
    "<b>'Avg_additional_charges_total'</b> — суммарная выручка от других услуг фитнес-центра: кафе, спорттовары, косметический и массажный салон.<p>\n",
    "<b>'Churn'</b> — факт оттока в текущем месяце.<p>"
   ]
  },
  {
   "cell_type": "markdown",
   "metadata": {},
   "source": [
    "<div class=\"alert alert-block alert-success\"; style=\"border-left: 6px solid green\">\n",
    "<b>Успех ✔️</b>\n",
    "       \n",
    "Хорошее введение!\n",
    "    \n",
    "</div>\n"
   ]
  },
  {
   "cell_type": "markdown",
   "metadata": {},
   "source": [
    "## Подготовка данных и проверка на пропуски, дубликаты"
   ]
  },
  {
   "cell_type": "code",
   "execution_count": 28,
   "metadata": {
    "collapsed": true
   },
   "outputs": [],
   "source": [
    "import pandas as pd\n",
    "import seaborn as sns\n",
    "import matplotlib.pyplot as plt\n",
    "from sklearn.model_selection import train_test_split\n",
    "from sklearn.linear_model import LogisticRegression\n",
    "from sklearn.ensemble import RandomForestClassifier\n",
    "from sklearn.cluster import KMeans\n",
    "from sklearn.metrics import accuracy_score, precision_score, recall_score, roc_auc_score\n",
    "from sklearn.preprocessing import StandardScaler\n",
    "from scipy.cluster.hierarchy import dendrogram, linkage\n",
    "import itertools"
   ]
  },
  {
   "cell_type": "code",
   "execution_count": 29,
   "metadata": {},
   "outputs": [
    {
     "data": {
      "text/html": [
       "<div>\n",
       "<style scoped>\n",
       "    .dataframe tbody tr th:only-of-type {\n",
       "        vertical-align: middle;\n",
       "    }\n",
       "\n",
       "    .dataframe tbody tr th {\n",
       "        vertical-align: top;\n",
       "    }\n",
       "\n",
       "    .dataframe thead th {\n",
       "        text-align: right;\n",
       "    }\n",
       "</style>\n",
       "<table border=\"1\" class=\"dataframe\">\n",
       "  <thead>\n",
       "    <tr style=\"text-align: right;\">\n",
       "      <th></th>\n",
       "      <th>gender</th>\n",
       "      <th>Near_Location</th>\n",
       "      <th>Partner</th>\n",
       "      <th>Promo_friends</th>\n",
       "      <th>Phone</th>\n",
       "      <th>Contract_period</th>\n",
       "      <th>Group_visits</th>\n",
       "      <th>Age</th>\n",
       "      <th>Avg_additional_charges_total</th>\n",
       "      <th>Month_to_end_contract</th>\n",
       "      <th>Lifetime</th>\n",
       "      <th>Avg_class_frequency_total</th>\n",
       "      <th>Avg_class_frequency_current_month</th>\n",
       "      <th>Churn</th>\n",
       "    </tr>\n",
       "  </thead>\n",
       "  <tbody>\n",
       "    <tr>\n",
       "      <th>0</th>\n",
       "      <td>1</td>\n",
       "      <td>1</td>\n",
       "      <td>1</td>\n",
       "      <td>1</td>\n",
       "      <td>0</td>\n",
       "      <td>6</td>\n",
       "      <td>1</td>\n",
       "      <td>29</td>\n",
       "      <td>14.227470</td>\n",
       "      <td>5.0</td>\n",
       "      <td>3</td>\n",
       "      <td>0.020398</td>\n",
       "      <td>0.000000</td>\n",
       "      <td>0</td>\n",
       "    </tr>\n",
       "    <tr>\n",
       "      <th>1</th>\n",
       "      <td>0</td>\n",
       "      <td>1</td>\n",
       "      <td>0</td>\n",
       "      <td>0</td>\n",
       "      <td>1</td>\n",
       "      <td>12</td>\n",
       "      <td>1</td>\n",
       "      <td>31</td>\n",
       "      <td>113.202938</td>\n",
       "      <td>12.0</td>\n",
       "      <td>7</td>\n",
       "      <td>1.922936</td>\n",
       "      <td>1.910244</td>\n",
       "      <td>0</td>\n",
       "    </tr>\n",
       "    <tr>\n",
       "      <th>2</th>\n",
       "      <td>0</td>\n",
       "      <td>1</td>\n",
       "      <td>1</td>\n",
       "      <td>0</td>\n",
       "      <td>1</td>\n",
       "      <td>1</td>\n",
       "      <td>0</td>\n",
       "      <td>28</td>\n",
       "      <td>129.448479</td>\n",
       "      <td>1.0</td>\n",
       "      <td>2</td>\n",
       "      <td>1.859098</td>\n",
       "      <td>1.736502</td>\n",
       "      <td>0</td>\n",
       "    </tr>\n",
       "    <tr>\n",
       "      <th>3</th>\n",
       "      <td>0</td>\n",
       "      <td>1</td>\n",
       "      <td>1</td>\n",
       "      <td>1</td>\n",
       "      <td>1</td>\n",
       "      <td>12</td>\n",
       "      <td>1</td>\n",
       "      <td>33</td>\n",
       "      <td>62.669863</td>\n",
       "      <td>12.0</td>\n",
       "      <td>2</td>\n",
       "      <td>3.205633</td>\n",
       "      <td>3.357215</td>\n",
       "      <td>0</td>\n",
       "    </tr>\n",
       "    <tr>\n",
       "      <th>4</th>\n",
       "      <td>1</td>\n",
       "      <td>1</td>\n",
       "      <td>1</td>\n",
       "      <td>1</td>\n",
       "      <td>1</td>\n",
       "      <td>1</td>\n",
       "      <td>0</td>\n",
       "      <td>26</td>\n",
       "      <td>198.362265</td>\n",
       "      <td>1.0</td>\n",
       "      <td>3</td>\n",
       "      <td>1.113884</td>\n",
       "      <td>1.120078</td>\n",
       "      <td>0</td>\n",
       "    </tr>\n",
       "  </tbody>\n",
       "</table>\n",
       "</div>"
      ],
      "text/plain": [
       "   gender  Near_Location  Partner  Promo_friends  Phone  Contract_period  \\\n",
       "0       1              1        1              1      0                6   \n",
       "1       0              1        0              0      1               12   \n",
       "2       0              1        1              0      1                1   \n",
       "3       0              1        1              1      1               12   \n",
       "4       1              1        1              1      1                1   \n",
       "\n",
       "   Group_visits  Age  Avg_additional_charges_total  Month_to_end_contract  \\\n",
       "0             1   29                     14.227470                    5.0   \n",
       "1             1   31                    113.202938                   12.0   \n",
       "2             0   28                    129.448479                    1.0   \n",
       "3             1   33                     62.669863                   12.0   \n",
       "4             0   26                    198.362265                    1.0   \n",
       "\n",
       "   Lifetime  Avg_class_frequency_total  Avg_class_frequency_current_month  \\\n",
       "0         3                   0.020398                           0.000000   \n",
       "1         7                   1.922936                           1.910244   \n",
       "2         2                   1.859098                           1.736502   \n",
       "3         2                   3.205633                           3.357215   \n",
       "4         3                   1.113884                           1.120078   \n",
       "\n",
       "   Churn  \n",
       "0      0  \n",
       "1      0  \n",
       "2      0  \n",
       "3      0  \n",
       "4      0  "
      ]
     },
     "execution_count": 29,
     "metadata": {},
     "output_type": "execute_result"
    }
   ],
   "source": [
    "df.head()"
   ]
  },
  {
   "cell_type": "code",
   "execution_count": 30,
   "metadata": {
    "collapsed": true
   },
   "outputs": [],
   "source": [
    "df.columns = [i.lower() for i in df.columns]"
   ]
  },
  {
   "cell_type": "code",
   "execution_count": 31,
   "metadata": {},
   "outputs": [
    {
     "name": "stdout",
     "output_type": "stream",
     "text": [
      "<class 'pandas.core.frame.DataFrame'>\n",
      "RangeIndex: 4000 entries, 0 to 3999\n",
      "Data columns (total 14 columns):\n",
      " #   Column                             Non-Null Count  Dtype  \n",
      "---  ------                             --------------  -----  \n",
      " 0   gender                             4000 non-null   int64  \n",
      " 1   near_location                      4000 non-null   int64  \n",
      " 2   partner                            4000 non-null   int64  \n",
      " 3   promo_friends                      4000 non-null   int64  \n",
      " 4   phone                              4000 non-null   int64  \n",
      " 5   contract_period                    4000 non-null   int64  \n",
      " 6   group_visits                       4000 non-null   int64  \n",
      " 7   age                                4000 non-null   int64  \n",
      " 8   avg_additional_charges_total       4000 non-null   float64\n",
      " 9   month_to_end_contract              4000 non-null   float64\n",
      " 10  lifetime                           4000 non-null   int64  \n",
      " 11  avg_class_frequency_total          4000 non-null   float64\n",
      " 12  avg_class_frequency_current_month  4000 non-null   float64\n",
      " 13  churn                              4000 non-null   int64  \n",
      "dtypes: float64(4), int64(10)\n",
      "memory usage: 437.6 KB\n"
     ]
    }
   ],
   "source": [
    "df.info()"
   ]
  },
  {
   "cell_type": "markdown",
   "metadata": {},
   "source": [
    "Пропусков нет! Число наблюдений больше 1000, следовательно, можно применить машинное обучение."
   ]
  },
  {
   "cell_type": "code",
   "execution_count": 32,
   "metadata": {},
   "outputs": [
    {
     "data": {
      "text/plain": [
       "0"
      ]
     },
     "execution_count": 32,
     "metadata": {},
     "output_type": "execute_result"
    }
   ],
   "source": [
    "df.duplicated().sum() #число дубликатов"
   ]
  },
  {
   "cell_type": "code",
   "execution_count": 33,
   "metadata": {},
   "outputs": [
    {
     "data": {
      "text/plain": [
       "0"
      ]
     },
     "execution_count": 33,
     "metadata": {},
     "output_type": "execute_result"
    }
   ],
   "source": [
    "df[['gender', 'near_location', 'phone', 'age', 'avg_additional_charges_total', 'churn']].duplicated().sum() #усиленный поиск дубликатов"
   ]
  },
  {
   "cell_type": "markdown",
   "metadata": {},
   "source": [
    "Дубликатов нет!"
   ]
  },
  {
   "cell_type": "code",
   "execution_count": 34,
   "metadata": {},
   "outputs": [
    {
     "name": "stdout",
     "output_type": "stream",
     "text": [
      "1    2041\n",
      "0    1959\n",
      "Name: gender, dtype: int64\n",
      "1    3381\n",
      "0     619\n",
      "Name: near_location, dtype: int64\n",
      "0    2053\n",
      "1    1947\n",
      "Name: partner, dtype: int64\n",
      "0    2766\n",
      "1    1234\n",
      "Name: promo_friends, dtype: int64\n",
      "1    3614\n",
      "0     386\n",
      "Name: phone, dtype: int64\n",
      "1     2207\n",
      "12     960\n",
      "6      833\n",
      "Name: contract_period, dtype: int64\n",
      "0    2351\n",
      "1    1649\n",
      "Name: group_visits, dtype: int64\n",
      "29    468\n",
      "30    457\n",
      "28    447\n",
      "31    434\n",
      "27    378\n",
      "32    364\n",
      "26    300\n",
      "33    253\n",
      "25    231\n",
      "34    174\n",
      "24    148\n",
      "35     98\n",
      "23     82\n",
      "36     48\n",
      "22     33\n",
      "37     29\n",
      "21     24\n",
      "20     14\n",
      "38     10\n",
      "39      3\n",
      "18      2\n",
      "19      2\n",
      "41      1\n",
      "Name: age, dtype: int64\n",
      "89.952762     1\n",
      "174.658455    1\n",
      "122.765563    1\n",
      "204.444527    1\n",
      "50.813166     1\n",
      "             ..\n",
      "272.997181    1\n",
      "115.130268    1\n",
      "133.525137    1\n",
      "201.447650    1\n",
      "218.979321    1\n",
      "Name: avg_additional_charges_total, Length: 4000, dtype: int64\n",
      "1.0     2207\n",
      "6.0      645\n",
      "12.0     524\n",
      "11.0     181\n",
      "5.0      130\n",
      "10.0      82\n",
      "9.0       73\n",
      "4.0       58\n",
      "8.0       38\n",
      "7.0       25\n",
      "3.0       23\n",
      "2.0       14\n",
      "Name: month_to_end_contract, dtype: int64\n",
      "1     843\n",
      "2     610\n",
      "3     490\n",
      "0     487\n",
      "4     383\n",
      "5     273\n",
      "6     220\n",
      "7     167\n",
      "8     111\n",
      "9     100\n",
      "10     76\n",
      "12     53\n",
      "11     48\n",
      "13     28\n",
      "15     24\n",
      "14     24\n",
      "16     15\n",
      "17     11\n",
      "19      7\n",
      "18      7\n",
      "20      7\n",
      "21      5\n",
      "26      2\n",
      "24      2\n",
      "22      2\n",
      "23      2\n",
      "27      1\n",
      "29      1\n",
      "31      1\n",
      "Name: lifetime, dtype: int64\n",
      "0.000000    88\n",
      "0.827058     1\n",
      "2.770845     1\n",
      "1.472779     1\n",
      "3.735185     1\n",
      "            ..\n",
      "2.602823     1\n",
      "1.295159     1\n",
      "1.138963     1\n",
      "2.262743     1\n",
      "0.992312     1\n",
      "Name: avg_class_frequency_total, Length: 3913, dtype: int64\n",
      "0.000000    181\n",
      "0.379235      1\n",
      "0.054540      1\n",
      "1.877288      1\n",
      "1.058906      1\n",
      "           ... \n",
      "3.115417      1\n",
      "3.429058      1\n",
      "3.233156      1\n",
      "2.564243      1\n",
      "1.454710      1\n",
      "Name: avg_class_frequency_current_month, Length: 3820, dtype: int64\n",
      "0    2939\n",
      "1    1061\n",
      "Name: churn, dtype: int64\n"
     ]
    }
   ],
   "source": [
    "for i in df.columns:\n",
    "    print(df[i].value_counts())"
   ]
  },
  {
   "cell_type": "markdown",
   "metadata": {},
   "source": [
    "Аномалий нет!"
   ]
  },
  {
   "cell_type": "markdown",
   "metadata": {},
   "source": [
    "## Исследовательский анализ данных (EDA) "
   ]
  },
  {
   "cell_type": "markdown",
   "metadata": {},
   "source": [
    "### Исследование признаков "
   ]
  },
  {
   "cell_type": "code",
   "execution_count": 35,
   "metadata": {},
   "outputs": [
    {
     "data": {
      "text/html": [
       "<div>\n",
       "<style scoped>\n",
       "    .dataframe tbody tr th:only-of-type {\n",
       "        vertical-align: middle;\n",
       "    }\n",
       "\n",
       "    .dataframe tbody tr th {\n",
       "        vertical-align: top;\n",
       "    }\n",
       "\n",
       "    .dataframe thead th {\n",
       "        text-align: right;\n",
       "    }\n",
       "</style>\n",
       "<table border=\"1\" class=\"dataframe\">\n",
       "  <thead>\n",
       "    <tr style=\"text-align: right;\">\n",
       "      <th></th>\n",
       "      <th>gender</th>\n",
       "      <th>near_location</th>\n",
       "      <th>partner</th>\n",
       "      <th>promo_friends</th>\n",
       "      <th>phone</th>\n",
       "      <th>contract_period</th>\n",
       "      <th>group_visits</th>\n",
       "      <th>age</th>\n",
       "      <th>avg_additional_charges_total</th>\n",
       "      <th>month_to_end_contract</th>\n",
       "      <th>lifetime</th>\n",
       "      <th>avg_class_frequency_total</th>\n",
       "      <th>avg_class_frequency_current_month</th>\n",
       "      <th>churn</th>\n",
       "    </tr>\n",
       "  </thead>\n",
       "  <tbody>\n",
       "    <tr>\n",
       "      <th>count</th>\n",
       "      <td>4000.000000</td>\n",
       "      <td>4000.000000</td>\n",
       "      <td>4000.000000</td>\n",
       "      <td>4000.000000</td>\n",
       "      <td>4000.000000</td>\n",
       "      <td>4000.000000</td>\n",
       "      <td>4000.000000</td>\n",
       "      <td>4000.000000</td>\n",
       "      <td>4000.000000</td>\n",
       "      <td>4000.000000</td>\n",
       "      <td>4000.000000</td>\n",
       "      <td>4000.000000</td>\n",
       "      <td>4000.000000</td>\n",
       "      <td>4000.000000</td>\n",
       "    </tr>\n",
       "    <tr>\n",
       "      <th>mean</th>\n",
       "      <td>0.510250</td>\n",
       "      <td>0.845250</td>\n",
       "      <td>0.486750</td>\n",
       "      <td>0.308500</td>\n",
       "      <td>0.903500</td>\n",
       "      <td>4.681250</td>\n",
       "      <td>0.412250</td>\n",
       "      <td>29.184250</td>\n",
       "      <td>146.943728</td>\n",
       "      <td>4.322750</td>\n",
       "      <td>3.724750</td>\n",
       "      <td>1.879020</td>\n",
       "      <td>1.767052</td>\n",
       "      <td>0.265250</td>\n",
       "    </tr>\n",
       "    <tr>\n",
       "      <th>std</th>\n",
       "      <td>0.499957</td>\n",
       "      <td>0.361711</td>\n",
       "      <td>0.499887</td>\n",
       "      <td>0.461932</td>\n",
       "      <td>0.295313</td>\n",
       "      <td>4.549706</td>\n",
       "      <td>0.492301</td>\n",
       "      <td>3.258367</td>\n",
       "      <td>96.355602</td>\n",
       "      <td>4.191297</td>\n",
       "      <td>3.749267</td>\n",
       "      <td>0.972245</td>\n",
       "      <td>1.052906</td>\n",
       "      <td>0.441521</td>\n",
       "    </tr>\n",
       "    <tr>\n",
       "      <th>min</th>\n",
       "      <td>0.000000</td>\n",
       "      <td>0.000000</td>\n",
       "      <td>0.000000</td>\n",
       "      <td>0.000000</td>\n",
       "      <td>0.000000</td>\n",
       "      <td>1.000000</td>\n",
       "      <td>0.000000</td>\n",
       "      <td>18.000000</td>\n",
       "      <td>0.148205</td>\n",
       "      <td>1.000000</td>\n",
       "      <td>0.000000</td>\n",
       "      <td>0.000000</td>\n",
       "      <td>0.000000</td>\n",
       "      <td>0.000000</td>\n",
       "    </tr>\n",
       "    <tr>\n",
       "      <th>25%</th>\n",
       "      <td>0.000000</td>\n",
       "      <td>1.000000</td>\n",
       "      <td>0.000000</td>\n",
       "      <td>0.000000</td>\n",
       "      <td>1.000000</td>\n",
       "      <td>1.000000</td>\n",
       "      <td>0.000000</td>\n",
       "      <td>27.000000</td>\n",
       "      <td>68.868830</td>\n",
       "      <td>1.000000</td>\n",
       "      <td>1.000000</td>\n",
       "      <td>1.180875</td>\n",
       "      <td>0.963003</td>\n",
       "      <td>0.000000</td>\n",
       "    </tr>\n",
       "    <tr>\n",
       "      <th>50%</th>\n",
       "      <td>1.000000</td>\n",
       "      <td>1.000000</td>\n",
       "      <td>0.000000</td>\n",
       "      <td>0.000000</td>\n",
       "      <td>1.000000</td>\n",
       "      <td>1.000000</td>\n",
       "      <td>0.000000</td>\n",
       "      <td>29.000000</td>\n",
       "      <td>136.220159</td>\n",
       "      <td>1.000000</td>\n",
       "      <td>3.000000</td>\n",
       "      <td>1.832768</td>\n",
       "      <td>1.719574</td>\n",
       "      <td>0.000000</td>\n",
       "    </tr>\n",
       "    <tr>\n",
       "      <th>75%</th>\n",
       "      <td>1.000000</td>\n",
       "      <td>1.000000</td>\n",
       "      <td>1.000000</td>\n",
       "      <td>1.000000</td>\n",
       "      <td>1.000000</td>\n",
       "      <td>6.000000</td>\n",
       "      <td>1.000000</td>\n",
       "      <td>31.000000</td>\n",
       "      <td>210.949625</td>\n",
       "      <td>6.000000</td>\n",
       "      <td>5.000000</td>\n",
       "      <td>2.536078</td>\n",
       "      <td>2.510336</td>\n",
       "      <td>1.000000</td>\n",
       "    </tr>\n",
       "    <tr>\n",
       "      <th>max</th>\n",
       "      <td>1.000000</td>\n",
       "      <td>1.000000</td>\n",
       "      <td>1.000000</td>\n",
       "      <td>1.000000</td>\n",
       "      <td>1.000000</td>\n",
       "      <td>12.000000</td>\n",
       "      <td>1.000000</td>\n",
       "      <td>41.000000</td>\n",
       "      <td>552.590740</td>\n",
       "      <td>12.000000</td>\n",
       "      <td>31.000000</td>\n",
       "      <td>6.023668</td>\n",
       "      <td>6.146783</td>\n",
       "      <td>1.000000</td>\n",
       "    </tr>\n",
       "  </tbody>\n",
       "</table>\n",
       "</div>"
      ],
      "text/plain": [
       "            gender  near_location      partner  promo_friends        phone  \\\n",
       "count  4000.000000    4000.000000  4000.000000    4000.000000  4000.000000   \n",
       "mean      0.510250       0.845250     0.486750       0.308500     0.903500   \n",
       "std       0.499957       0.361711     0.499887       0.461932     0.295313   \n",
       "min       0.000000       0.000000     0.000000       0.000000     0.000000   \n",
       "25%       0.000000       1.000000     0.000000       0.000000     1.000000   \n",
       "50%       1.000000       1.000000     0.000000       0.000000     1.000000   \n",
       "75%       1.000000       1.000000     1.000000       1.000000     1.000000   \n",
       "max       1.000000       1.000000     1.000000       1.000000     1.000000   \n",
       "\n",
       "       contract_period  group_visits          age  \\\n",
       "count      4000.000000   4000.000000  4000.000000   \n",
       "mean          4.681250      0.412250    29.184250   \n",
       "std           4.549706      0.492301     3.258367   \n",
       "min           1.000000      0.000000    18.000000   \n",
       "25%           1.000000      0.000000    27.000000   \n",
       "50%           1.000000      0.000000    29.000000   \n",
       "75%           6.000000      1.000000    31.000000   \n",
       "max          12.000000      1.000000    41.000000   \n",
       "\n",
       "       avg_additional_charges_total  month_to_end_contract     lifetime  \\\n",
       "count                   4000.000000            4000.000000  4000.000000   \n",
       "mean                     146.943728               4.322750     3.724750   \n",
       "std                       96.355602               4.191297     3.749267   \n",
       "min                        0.148205               1.000000     0.000000   \n",
       "25%                       68.868830               1.000000     1.000000   \n",
       "50%                      136.220159               1.000000     3.000000   \n",
       "75%                      210.949625               6.000000     5.000000   \n",
       "max                      552.590740              12.000000    31.000000   \n",
       "\n",
       "       avg_class_frequency_total  avg_class_frequency_current_month  \\\n",
       "count                4000.000000                        4000.000000   \n",
       "mean                    1.879020                           1.767052   \n",
       "std                     0.972245                           1.052906   \n",
       "min                     0.000000                           0.000000   \n",
       "25%                     1.180875                           0.963003   \n",
       "50%                     1.832768                           1.719574   \n",
       "75%                     2.536078                           2.510336   \n",
       "max                     6.023668                           6.146783   \n",
       "\n",
       "             churn  \n",
       "count  4000.000000  \n",
       "mean      0.265250  \n",
       "std       0.441521  \n",
       "min       0.000000  \n",
       "25%       0.000000  \n",
       "50%       0.000000  \n",
       "75%       1.000000  \n",
       "max       1.000000  "
      ]
     },
     "execution_count": 35,
     "metadata": {},
     "output_type": "execute_result"
    }
   ],
   "source": [
    "df.describe() #описание данных"
   ]
  },
  {
   "cell_type": "markdown",
   "metadata": {},
   "source": [
    "### Средние значения признаков в зависимости от факта оттока клиентов"
   ]
  },
  {
   "cell_type": "code",
   "execution_count": 36,
   "metadata": {},
   "outputs": [
    {
     "data": {
      "text/html": [
       "<div>\n",
       "<style scoped>\n",
       "    .dataframe tbody tr th:only-of-type {\n",
       "        vertical-align: middle;\n",
       "    }\n",
       "\n",
       "    .dataframe tbody tr th {\n",
       "        vertical-align: top;\n",
       "    }\n",
       "\n",
       "    .dataframe thead tr th {\n",
       "        text-align: left;\n",
       "    }\n",
       "\n",
       "    .dataframe thead tr:last-of-type th {\n",
       "        text-align: right;\n",
       "    }\n",
       "</style>\n",
       "<table border=\"1\" class=\"dataframe\">\n",
       "  <thead>\n",
       "    <tr>\n",
       "      <th></th>\n",
       "      <th>gender</th>\n",
       "      <th>near_location</th>\n",
       "      <th>partner</th>\n",
       "      <th>promo_friends</th>\n",
       "      <th>phone</th>\n",
       "      <th>contract_period</th>\n",
       "      <th>group_visits</th>\n",
       "      <th>age</th>\n",
       "      <th>avg_additional_charges_total</th>\n",
       "      <th>month_to_end_contract</th>\n",
       "      <th>lifetime</th>\n",
       "      <th>avg_class_frequency_total</th>\n",
       "      <th>avg_class_frequency_current_month</th>\n",
       "    </tr>\n",
       "    <tr>\n",
       "      <th></th>\n",
       "      <th>mean</th>\n",
       "      <th>mean</th>\n",
       "      <th>mean</th>\n",
       "      <th>mean</th>\n",
       "      <th>mean</th>\n",
       "      <th>mean</th>\n",
       "      <th>mean</th>\n",
       "      <th>mean</th>\n",
       "      <th>mean</th>\n",
       "      <th>mean</th>\n",
       "      <th>mean</th>\n",
       "      <th>mean</th>\n",
       "      <th>mean</th>\n",
       "    </tr>\n",
       "    <tr>\n",
       "      <th>churn</th>\n",
       "      <th></th>\n",
       "      <th></th>\n",
       "      <th></th>\n",
       "      <th></th>\n",
       "      <th></th>\n",
       "      <th></th>\n",
       "      <th></th>\n",
       "      <th></th>\n",
       "      <th></th>\n",
       "      <th></th>\n",
       "      <th></th>\n",
       "      <th></th>\n",
       "      <th></th>\n",
       "    </tr>\n",
       "  </thead>\n",
       "  <tbody>\n",
       "    <tr>\n",
       "      <th>0</th>\n",
       "      <td>0.510037</td>\n",
       "      <td>0.873086</td>\n",
       "      <td>0.534195</td>\n",
       "      <td>0.353522</td>\n",
       "      <td>0.903709</td>\n",
       "      <td>5.747193</td>\n",
       "      <td>0.464103</td>\n",
       "      <td>29.976523</td>\n",
       "      <td>158.445715</td>\n",
       "      <td>5.283089</td>\n",
       "      <td>4.711807</td>\n",
       "      <td>2.024876</td>\n",
       "      <td>2.027882</td>\n",
       "    </tr>\n",
       "    <tr>\n",
       "      <th>1</th>\n",
       "      <td>0.510839</td>\n",
       "      <td>0.768143</td>\n",
       "      <td>0.355325</td>\n",
       "      <td>0.183789</td>\n",
       "      <td>0.902922</td>\n",
       "      <td>1.728558</td>\n",
       "      <td>0.268615</td>\n",
       "      <td>26.989632</td>\n",
       "      <td>115.082899</td>\n",
       "      <td>1.662582</td>\n",
       "      <td>0.990575</td>\n",
       "      <td>1.474995</td>\n",
       "      <td>1.044546</td>\n",
       "    </tr>\n",
       "  </tbody>\n",
       "</table>\n",
       "</div>"
      ],
      "text/plain": [
       "         gender near_location   partner promo_friends     phone  \\\n",
       "           mean          mean      mean          mean      mean   \n",
       "churn                                                             \n",
       "0      0.510037      0.873086  0.534195      0.353522  0.903709   \n",
       "1      0.510839      0.768143  0.355325      0.183789  0.902922   \n",
       "\n",
       "      contract_period group_visits        age avg_additional_charges_total  \\\n",
       "                 mean         mean       mean                         mean   \n",
       "churn                                                                        \n",
       "0            5.747193     0.464103  29.976523                   158.445715   \n",
       "1            1.728558     0.268615  26.989632                   115.082899   \n",
       "\n",
       "      month_to_end_contract  lifetime avg_class_frequency_total  \\\n",
       "                       mean      mean                      mean   \n",
       "churn                                                             \n",
       "0                  5.283089  4.711807                  2.024876   \n",
       "1                  1.662582  0.990575                  1.474995   \n",
       "\n",
       "      avg_class_frequency_current_month  \n",
       "                                   mean  \n",
       "churn                                    \n",
       "0                              2.027882  \n",
       "1                              1.044546  "
      ]
     },
     "execution_count": 36,
     "metadata": {},
     "output_type": "execute_result"
    }
   ],
   "source": [
    "df.groupby('churn').agg({'mean'}) #группировка по churn и расчет средний значений признаков"
   ]
  },
  {
   "cell_type": "markdown",
   "metadata": {},
   "source": [
    "### Распределения признаков в зависимости от факта оттока клиентов"
   ]
  },
  {
   "cell_type": "code",
   "execution_count": 10,
   "metadata": {},
   "outputs": [
    {
     "data": {
      "image/png": "[encoded data removed]",
      "text/plain": [
       "<Figure size 720x720 with 16 Axes>"
      ]
     },
     "metadata": {
      "needs_background": "light"
     },
     "output_type": "display_data"
    }
   ],
   "source": [
    "df_churn_0 = df.query(\"churn == 0\").hist(figsize=(10,10)) #гистограмма признаков, когда churn = 0"
   ]
  },
  {
   "cell_type": "code",
   "execution_count": 11,
   "metadata": {},
   "outputs": [
    {
     "data": {
      "image/png": "[encoded data removed]",
      "text/plain": [
       "<Figure size 720x720 with 16 Axes>"
      ]
     },
     "metadata": {
      "needs_background": "light"
     },
     "output_type": "display_data"
    }
   ],
   "source": [
    "df_churn_0 = df.query(\"churn == 0\").hist(figsize=(10,10), bins=20) "
   ]
  },
  {
   "cell_type": "code",
   "execution_count": 12,
   "metadata": {},
   "outputs": [
    {
     "data": {
      "image/png": "[encoded data removed]",
      "text/plain": [
       "<Figure size 720x720 with 16 Axes>"
      ]
     },
     "metadata": {
      "needs_background": "light"
     },
     "output_type": "display_data"
    }
   ],
   "source": [
    "df_churn_1 = df.query(\"churn == 1\").hist(figsize=(10,10)) #гистограмма признаков, когда churn = 1"
   ]
  },
  {
   "cell_type": "code",
   "execution_count": 13,
   "metadata": {},
   "outputs": [
    {
     "data": {
      "image/png": "[encoded data removed]",
      "text/plain": [
       "<Figure size 720x720 with 16 Axes>"
      ]
     },
     "metadata": {
      "needs_background": "light"
     },
     "output_type": "display_data"
    }
   ],
   "source": [
    "df_churn_1 = df.query(\"churn == 1\").hist(figsize=(10,10), bins=20) #ушли"
   ]
  },
  {
   "cell_type": "markdown",
   "metadata": {},
   "source": [
    "При разделении данных по наличию оттока клиентов распределение большинства признаков схожее. Например, avg_additional_charges, avg_frequency_total, gender, near_location. Имеется распределение Пуассона и нормальное распределениею"
   ]
  },
  {
   "cell_type": "markdown",
   "metadata": {},
   "source": [
    "### Матрица корреляций признаков "
   ]
  },
  {
   "cell_type": "code",
   "execution_count": 14,
   "metadata": {},
   "outputs": [
    {
     "data": {
      "image/png": "[encoded data removed]",
      "text/plain": [
       "<Figure size 1152x432 with 2 Axes>"
      ]
     },
     "metadata": {
      "needs_background": "light"
     },
     "output_type": "display_data"
    }
   ],
   "source": [
    "corrs = df.corr()\n",
    "plt.figure(figsize=(16, 6))\n",
    "sns.heatmap(corrs, vmin=-1, vmax=1, annot=True)\n",
    "plt.show()"
   ]
  },
  {
   "cell_type": "markdown",
   "metadata": {},
   "source": [
    "Целевая переменная 'churn' лучше всего коррелирует с признаками: avg_class_frequency_current_month, lifetime, age. Однако, они достаточно слабые."
   ]
  },
  {
   "cell_type": "markdown",
   "metadata": {},
   "source": [
    "## Модель прогнозирования оттока клиентов "
   ]
  },
  {
   "cell_type": "markdown",
   "metadata": {},
   "source": [
    "###  Подготовка тренировочной и валидационной выборок"
   ]
  },
  {
   "cell_type": "code",
   "execution_count": 15,
   "metadata": {
    "collapsed": true
   },
   "outputs": [],
   "source": [
    "X = df.drop('churn', axis=1)\n",
    "y = df['churn']\n",
    "\n",
    "X_train, X_test, y_train, y_test = train_test_split(X, y, test_size = 0.2, random_state=0)"
   ]
  },
  {
   "cell_type": "markdown",
   "metadata": {},
   "source": [
    "### Обучение моделей"
   ]
  },
  {
   "cell_type": "code",
   "execution_count": 16,
   "metadata": {
    "collapsed": true
   },
   "outputs": [],
   "source": [
    "models = [\n",
    "    LogisticRegression(random_state=0, solver='liblinear'),\n",
    "    RandomForestClassifier(random_state=0)\n",
    "]"
   ]
  },
  {
   "cell_type": "code",
   "execution_count": 17,
   "metadata": {
    "collapsed": true
   },
   "outputs": [],
   "source": [
    "def make_prediction(m, X_train, y_train, X_test, y_test):\n",
    "    model = m\n",
    "    model.fit(X_train, y_train)\n",
    "    y_pred = model.predict(X_test)\n",
    "    print(\n",
    "        'Accuracy:{:.2f} Precision:{:.2f} Recall:{:.2f} Roc_auc_score:{:.2f} '.format(\n",
    "            accuracy_score(y_test, y_pred),\n",
    "            precision_score(y_test, y_pred),\n",
    "            recall_score(y_test, y_pred),\n",
    "            roc_auc_score(y_test, y_pred)\n",
    "            \n",
    "        )\n",
    "    )"
   ]
  },
  {
   "cell_type": "markdown",
   "metadata": {},
   "source": [
    "### Сравнение моделей "
   ]
  },
  {
   "cell_type": "code",
   "execution_count": 18,
   "metadata": {},
   "outputs": [
    {
     "name": "stdout",
     "output_type": "stream",
     "text": [
      "LogisticRegression(random_state=0, solver='liblinear')\n",
      "Accuracy:0.93 Precision:0.86 Recall:0.83 Roc_auc_score:0.90 \n",
      "RandomForestClassifier(random_state=0)\n",
      "Accuracy:0.92 Precision:0.84 Recall:0.82 Roc_auc_score:0.88 \n"
     ]
    }
   ],
   "source": [
    "for i in models:\n",
    "    print(i)\n",
    "    make_prediction(i, X_train, y_train, X_test, y_test)"
   ]
  },
  {
   "cell_type": "markdown",
   "metadata": {},
   "source": [
    "Обе модели предсказывают факт оттока клиентов практически одинаково, но LogisticRegression немного лучше"
   ]
  },
  {
   "cell_type": "markdown",
   "metadata": {},
   "source": [
    "## Кластеризация клиентов "
   ]
  },
  {
   "cell_type": "markdown",
   "metadata": {},
   "source": [
    "### Стандартизация данных "
   ]
  },
  {
   "cell_type": "code",
   "execution_count": 19,
   "metadata": {
    "collapsed": true
   },
   "outputs": [],
   "source": [
    "sc = StandardScaler()\n",
    "X_sc = sc.fit_transform(X)"
   ]
  },
  {
   "cell_type": "markdown",
   "metadata": {},
   "source": [
    "### Построение матрицы расстояний "
   ]
  },
  {
   "cell_type": "code",
   "execution_count": null,
   "metadata": {
    "collapsed": true
   },
   "outputs": [],
   "source": [
    "linked = linkage(X_sc, method = 'ward')\n",
    "plt.figure(figsize=(15, 10))  \n",
    "dendrogram(linked, orientation='top')\n",
    "plt.title('Матрица расстояний для клиентской базы')\n",
    "plt.show()"
   ]
  },
  {
   "cell_type": "markdown",
   "metadata": {},
   "source": [
    "Оптимальное число кластеров - 4"
   ]
  },
  {
   "cell_type": "markdown",
   "metadata": {},
   "source": [
    "### Обучение модели кластеризации "
   ]
  },
  {
   "cell_type": "code",
   "execution_count": null,
   "metadata": {
    "collapsed": true
   },
   "outputs": [],
   "source": [
    "km = KMeans(n_clusters=5, random_state=0)\n",
    "labels = km.fit_predict(X_sc)"
   ]
  },
  {
   "cell_type": "markdown",
   "metadata": {},
   "source": [
    "### Расчет средних значений признаков по кластерам "
   ]
  },
  {
   "cell_type": "code",
   "execution_count": null,
   "metadata": {
    "collapsed": true
   },
   "outputs": [],
   "source": [
    "df['cluster_km'] = labels\n",
    "print(df.drop('churn', axis=1).groupby('cluster_km').agg('mean'))"
   ]
  },
  {
   "cell_type": "markdown",
   "metadata": {},
   "source": [
    "Среднее значение признака near_location у кластера № 2 отличается от остальных кластеров очень сильно. Среднее значение признака partner у кластера № 0 отличается от остальных кластеров чуть больше.  Среднее значение признака promo_friends у кластера № 2 отличается от остальных кластеров очень сильно. Среднее значение признака contract_period у кластера № 0 отличается от остальных кластеров. Среднее значение признака contract_period у кластера № 0 и 4 отличается от остальных кластеров очень сильно. Среднее значение признака month_to_end_contract у кластера № 0 отличается от остальных кластеров очень сильно. Среднее значение признака avg_class_frequency_total у кластера № 4 отличается от остальных кластеров очень сильно. Среднее значение признака avg_class_frequency_current_month у кластера № 4 отличается от остальных кластеров очень сильно."
   ]
  },
  {
   "cell_type": "markdown",
   "metadata": {},
   "source": [
    "Вывод: Кластеры номер 0 и 4 выделяются по некоторым признакам!"
   ]
  },
  {
   "cell_type": "markdown",
   "metadata": {},
   "source": [
    "### Построение диаграммы распределения признаков по кластерам "
   ]
  },
  {
   "cell_type": "code",
   "execution_count": null,
   "metadata": {
    "collapsed": true
   },
   "outputs": [],
   "source": [
    "def show_clusters_on_plot(df, x_name, y_name, cluster_name):\n",
    "    plt.figure(figsize=(5, 5))\n",
    "    sns.scatterplot(\n",
    "        df[x_name], df[y_name], hue=df[cluster_name], palette='Paired'\n",
    "    )\n",
    "    plt.title('{} vs {}'.format(x_name, y_name))\n",
    "    plt.show()"
   ]
  },
  {
   "cell_type": "code",
   "execution_count": null,
   "metadata": {
    "collapsed": true
   },
   "outputs": [],
   "source": [
    "col_pairs = list(itertools.combinations(df.drop('cluster_km', axis=1).columns, 2))\n",
    "for pair in col_pairs:\n",
    "    show_clusters_on_plot(df, pair[0], pair[1], 'cluster_km')"
   ]
  },
  {
   "cell_type": "markdown",
   "metadata": {},
   "source": [
    "Сложно сказать что-то конкретное по данным графикам"
   ]
  },
  {
   "cell_type": "markdown",
   "metadata": {},
   "source": [
    "### Расчет доли оттока для каждого кластера "
   ]
  },
  {
   "cell_type": "code",
   "execution_count": null,
   "metadata": {
    "collapsed": true
   },
   "outputs": [],
   "source": [
    "table = df.groupby('cluster_km').agg({'churn':['sum','count']})\n",
    "table['ratio'] = round(table.iloc[:, 0]/table.iloc[:, 1], 2)\n",
    "table"
   ]
  },
  {
   "cell_type": "markdown",
   "metadata": {},
   "source": [
    "Кластеры № 2 и 3 склонны к оттоку. Кластеры № 0 и 4 не склонны. Кластер № 1 - спорный."
   ]
  },
  {
   "cell_type": "markdown",
   "metadata": {},
   "source": [
    "## Общий вывод и рекомендации "
   ]
  },
  {
   "cell_type": "markdown",
   "metadata": {},
   "source": [
    "Таким образом, в ходе проведенного анализа данных, были подготовлены данные для предсказания факта оттока клиентов, составлены две модели по классификации на основе клиентской базы. Наибольшую предсказательную силу показал алгоритм Логистической регрессии:<p> Accuracy:0.93 Precision:0.86 Recall:0.83 Roc_auc_score:0.90.<p> Далее, было определено оптимальное число кластеров для задачи кластеризации (5 кластеров). Определено, что кластеры № 0 и 4 не склонны к оттоку. Для них характерно: <p> наличие сотрудника компании-партнёра клуба, факт первоначальной записи в рамках акции «приведи друга», длительность текущего действующего абонемента - год; высокая суммарная выручка от других услуг фитнес-центра: кафе, спорттовары, косметический и массажный салон, высокая средняя частота посещений в неделю за предыдущий месяц и за все время с начала действия абонемента. <p>\n",
    "Рекомендации к бизнесу:\n",
    "1. Проведение акции \"приведи друга\"\n",
    "2. Усилить рекламу на покупку абонемента на год (скидки, акции)\n",
    "3. Сконцентрировать внимание клиентов на других услугах фитнес-центра (кафе, спорттовары, косметический и массажный салон)"
   ]
  }
 ],
 "metadata": {
  "ExecuteTimeLog": [
   {
    "duration": 393,
    "start_time": "2022-08-19T08:04:18.824Z"
   },
   {
    "duration": 80,
    "start_time": "2022-08-19T08:04:35.667Z"
   },
   {
    "duration": 12,
    "start_time": "2022-08-19T08:06:18.432Z"
   },
   {
    "duration": 66,
    "start_time": "2022-08-19T08:06:39.222Z"
   },
   {
    "duration": 6,
    "start_time": "2022-08-19T08:06:48.924Z"
   },
   {
    "duration": 3,
    "start_time": "2022-08-19T08:07:51.889Z"
   },
   {
    "duration": 44,
    "start_time": "2022-08-19T08:07:52.228Z"
   },
   {
    "duration": 9,
    "start_time": "2022-08-19T08:07:53.593Z"
   },
   {
    "duration": 9,
    "start_time": "2022-08-19T08:08:06.947Z"
   },
   {
    "duration": 20,
    "start_time": "2022-08-19T08:08:45.766Z"
   },
   {
    "duration": 17,
    "start_time": "2022-08-19T08:08:59.752Z"
   },
   {
    "duration": 17,
    "start_time": "2022-08-19T08:09:05.617Z"
   },
   {
    "duration": 14,
    "start_time": "2022-08-19T08:09:46.072Z"
   },
   {
    "duration": 6,
    "start_time": "2022-08-19T08:10:12.623Z"
   },
   {
    "duration": 4,
    "start_time": "2022-08-19T08:10:19.744Z"
   },
   {
    "duration": 3,
    "start_time": "2022-08-19T08:10:24.874Z"
   },
   {
    "duration": 40,
    "start_time": "2022-08-19T08:10:25.125Z"
   },
   {
    "duration": 3,
    "start_time": "2022-08-19T08:10:26.284Z"
   },
   {
    "duration": 10,
    "start_time": "2022-08-19T08:10:29.165Z"
   },
   {
    "duration": 8,
    "start_time": "2022-08-19T08:24:44.667Z"
   },
   {
    "duration": 8,
    "start_time": "2022-08-19T08:26:13.302Z"
   },
   {
    "duration": 10,
    "start_time": "2022-08-19T08:27:33.726Z"
   },
   {
    "duration": 22,
    "start_time": "2022-08-19T08:27:44.843Z"
   },
   {
    "duration": 22,
    "start_time": "2022-08-19T08:29:43.058Z"
   },
   {
    "duration": 22,
    "start_time": "2022-08-19T08:29:53.224Z"
   },
   {
    "duration": 25,
    "start_time": "2022-08-19T08:30:03.560Z"
   },
   {
    "duration": 1343,
    "start_time": "2022-08-19T08:31:07.658Z"
   },
   {
    "duration": 959,
    "start_time": "2022-08-19T08:31:21.331Z"
   },
   {
    "duration": 40,
    "start_time": "2022-08-19T08:33:54.767Z"
   },
   {
    "duration": 38,
    "start_time": "2022-08-19T08:35:24.665Z"
   },
   {
    "duration": 1908,
    "start_time": "2022-08-19T08:38:15.296Z"
   },
   {
    "duration": 434,
    "start_time": "2022-08-19T08:39:17.744Z"
   },
   {
    "duration": 1988,
    "start_time": "2022-08-19T08:39:41.395Z"
   },
   {
    "duration": 1697,
    "start_time": "2022-08-19T08:39:50.690Z"
   },
   {
    "duration": 1908,
    "start_time": "2022-08-19T08:39:57.368Z"
   },
   {
    "duration": 51,
    "start_time": "2022-08-19T08:40:31.393Z"
   },
   {
    "duration": 13,
    "start_time": "2022-08-19T08:40:39.931Z"
   },
   {
    "duration": 9,
    "start_time": "2022-08-19T08:40:52.377Z"
   },
   {
    "duration": 1961,
    "start_time": "2022-08-19T08:41:06.066Z"
   },
   {
    "duration": 823,
    "start_time": "2022-08-19T08:41:24.094Z"
   },
   {
    "duration": 1140,
    "start_time": "2022-08-19T08:41:27.899Z"
   },
   {
    "duration": 860,
    "start_time": "2022-08-19T08:41:41.003Z"
   },
   {
    "duration": 1313,
    "start_time": "2022-08-19T08:41:59.506Z"
   },
   {
    "duration": 1278,
    "start_time": "2022-08-19T08:42:10.319Z"
   },
   {
    "duration": 987,
    "start_time": "2022-08-19T08:42:20.976Z"
   },
   {
    "duration": 1161,
    "start_time": "2022-08-19T08:42:31.284Z"
   },
   {
    "duration": 1536,
    "start_time": "2022-08-19T08:42:42.518Z"
   },
   {
    "duration": 1004,
    "start_time": "2022-08-19T08:43:04.836Z"
   },
   {
    "duration": 1004,
    "start_time": "2022-08-19T08:43:19.687Z"
   },
   {
    "duration": 480,
    "start_time": "2022-08-19T09:13:15.406Z"
   },
   {
    "duration": 1413,
    "start_time": "2022-08-19T09:14:12.429Z"
   },
   {
    "duration": 1413,
    "start_time": "2022-08-19T09:14:27.463Z"
   },
   {
    "duration": 11,
    "start_time": "2022-08-19T09:14:59.483Z"
   },
   {
    "duration": 1849,
    "start_time": "2022-08-19T09:15:14.544Z"
   },
   {
    "duration": 1383,
    "start_time": "2022-08-19T09:15:38.001Z"
   },
   {
    "duration": 4,
    "start_time": "2022-08-19T09:17:43.030Z"
   },
   {
    "duration": 1268,
    "start_time": "2022-08-19T09:19:06.196Z"
   },
   {
    "duration": 1236,
    "start_time": "2022-08-19T09:19:07.466Z"
   },
   {
    "duration": 1204,
    "start_time": "2022-08-19T09:19:11.139Z"
   },
   {
    "duration": 1304,
    "start_time": "2022-08-19T09:25:23.632Z"
   },
   {
    "duration": 42,
    "start_time": "2022-08-19T09:25:24.938Z"
   },
   {
    "duration": 3,
    "start_time": "2022-08-19T09:25:24.981Z"
   },
   {
    "duration": 14,
    "start_time": "2022-08-19T09:25:24.986Z"
   },
   {
    "duration": 7,
    "start_time": "2022-08-19T09:25:25.003Z"
   },
   {
    "duration": 15,
    "start_time": "2022-08-19T09:25:25.011Z"
   },
   {
    "duration": 23,
    "start_time": "2022-08-19T09:25:25.027Z"
   },
   {
    "duration": 39,
    "start_time": "2022-08-19T09:25:25.051Z"
   },
   {
    "duration": 54,
    "start_time": "2022-08-19T09:25:25.092Z"
   },
   {
    "duration": 1079,
    "start_time": "2022-08-19T09:25:25.148Z"
   },
   {
    "duration": 1120,
    "start_time": "2022-08-19T09:25:26.229Z"
   },
   {
    "duration": 1096,
    "start_time": "2022-08-19T09:25:27.351Z"
   },
   {
    "duration": 1221,
    "start_time": "2022-08-19T09:25:28.449Z"
   },
   {
    "duration": 1288,
    "start_time": "2022-08-19T09:25:29.671Z"
   },
   {
    "duration": 6,
    "start_time": "2022-08-19T09:25:57.032Z"
   },
   {
    "duration": 209,
    "start_time": "2022-08-19T09:28:14.316Z"
   },
   {
    "duration": 3,
    "start_time": "2022-08-19T09:31:55.217Z"
   },
   {
    "duration": 1483,
    "start_time": "2022-08-19T09:33:09.503Z"
   },
   {
    "duration": 44,
    "start_time": "2022-08-19T09:33:10.987Z"
   },
   {
    "duration": 3,
    "start_time": "2022-08-19T09:33:11.032Z"
   },
   {
    "duration": 12,
    "start_time": "2022-08-19T09:33:11.037Z"
   },
   {
    "duration": 7,
    "start_time": "2022-08-19T09:33:11.051Z"
   },
   {
    "duration": 7,
    "start_time": "2022-08-19T09:33:11.059Z"
   },
   {
    "duration": 48,
    "start_time": "2022-08-19T09:33:11.067Z"
   },
   {
    "duration": 39,
    "start_time": "2022-08-19T09:33:11.117Z"
   },
   {
    "duration": 33,
    "start_time": "2022-08-19T09:33:11.158Z"
   },
   {
    "duration": 1085,
    "start_time": "2022-08-19T09:33:11.193Z"
   },
   {
    "duration": 1257,
    "start_time": "2022-08-19T09:33:12.280Z"
   },
   {
    "duration": 1083,
    "start_time": "2022-08-19T09:33:13.539Z"
   },
   {
    "duration": 1230,
    "start_time": "2022-08-19T09:33:14.624Z"
   },
   {
    "duration": 1303,
    "start_time": "2022-08-19T09:33:15.856Z"
   },
   {
    "duration": 8,
    "start_time": "2022-08-19T09:33:17.161Z"
   },
   {
    "duration": 11,
    "start_time": "2022-08-19T09:33:17.170Z"
   },
   {
    "duration": 6,
    "start_time": "2022-08-19T09:33:17.183Z"
   },
   {
    "duration": 128,
    "start_time": "2022-08-19T09:33:17.191Z"
   },
   {
    "duration": 21,
    "start_time": "2022-08-19T09:33:24.858Z"
   },
   {
    "duration": 17,
    "start_time": "2022-08-19T09:33:41.398Z"
   },
   {
    "duration": 6,
    "start_time": "2022-08-19T09:33:49.710Z"
   },
   {
    "duration": 1356,
    "start_time": "2022-08-19T09:35:43.210Z"
   },
   {
    "duration": 42,
    "start_time": "2022-08-19T09:35:44.568Z"
   },
   {
    "duration": 3,
    "start_time": "2022-08-19T09:35:44.611Z"
   },
   {
    "duration": 39,
    "start_time": "2022-08-19T09:35:44.617Z"
   },
   {
    "duration": 9,
    "start_time": "2022-08-19T09:35:44.658Z"
   },
   {
    "duration": 22,
    "start_time": "2022-08-19T09:35:44.669Z"
   },
   {
    "duration": 34,
    "start_time": "2022-08-19T09:35:44.692Z"
   },
   {
    "duration": 39,
    "start_time": "2022-08-19T09:35:44.728Z"
   },
   {
    "duration": 45,
    "start_time": "2022-08-19T09:35:44.769Z"
   },
   {
    "duration": 1085,
    "start_time": "2022-08-19T09:35:44.817Z"
   },
   {
    "duration": 1116,
    "start_time": "2022-08-19T09:35:45.903Z"
   },
   {
    "duration": 1079,
    "start_time": "2022-08-19T09:35:47.021Z"
   },
   {
    "duration": 1205,
    "start_time": "2022-08-19T09:35:48.102Z"
   },
   {
    "duration": 1294,
    "start_time": "2022-08-19T09:35:49.309Z"
   },
   {
    "duration": 7,
    "start_time": "2022-08-19T09:35:50.605Z"
   },
   {
    "duration": 5,
    "start_time": "2022-08-19T09:35:50.614Z"
   },
   {
    "duration": 10,
    "start_time": "2022-08-19T09:35:50.620Z"
   },
   {
    "duration": 135,
    "start_time": "2022-08-19T09:35:50.631Z"
   },
   {
    "duration": 16,
    "start_time": "2022-08-19T09:36:07.742Z"
   },
   {
    "duration": 14,
    "start_time": "2022-08-19T09:36:13.877Z"
   },
   {
    "duration": 1346,
    "start_time": "2022-08-19T09:36:44.742Z"
   },
   {
    "duration": 48,
    "start_time": "2022-08-19T09:36:46.090Z"
   },
   {
    "duration": 3,
    "start_time": "2022-08-19T09:36:46.140Z"
   },
   {
    "duration": 12,
    "start_time": "2022-08-19T09:36:46.145Z"
   },
   {
    "duration": 7,
    "start_time": "2022-08-19T09:36:46.159Z"
   },
   {
    "duration": 11,
    "start_time": "2022-08-19T09:36:46.168Z"
   },
   {
    "duration": 45,
    "start_time": "2022-08-19T09:36:46.181Z"
   },
   {
    "duration": 36,
    "start_time": "2022-08-19T09:36:46.227Z"
   },
   {
    "duration": 50,
    "start_time": "2022-08-19T09:36:46.266Z"
   },
   {
    "duration": 1076,
    "start_time": "2022-08-19T09:36:46.319Z"
   },
   {
    "duration": 1153,
    "start_time": "2022-08-19T09:36:47.396Z"
   },
   {
    "duration": 1202,
    "start_time": "2022-08-19T09:36:48.551Z"
   },
   {
    "duration": 1277,
    "start_time": "2022-08-19T09:36:49.755Z"
   },
   {
    "duration": 1310,
    "start_time": "2022-08-19T09:36:51.033Z"
   },
   {
    "duration": 9,
    "start_time": "2022-08-19T09:36:52.345Z"
   },
   {
    "duration": 16,
    "start_time": "2022-08-19T09:36:52.356Z"
   },
   {
    "duration": 8,
    "start_time": "2022-08-19T09:36:52.374Z"
   },
   {
    "duration": 1113,
    "start_time": "2022-08-19T09:36:52.383Z"
   },
   {
    "duration": 0,
    "start_time": "2022-08-19T09:36:53.498Z"
   },
   {
    "duration": 1359,
    "start_time": "2022-08-19T09:38:41.100Z"
   },
   {
    "duration": 45,
    "start_time": "2022-08-19T09:38:42.461Z"
   },
   {
    "duration": 3,
    "start_time": "2022-08-19T09:38:42.507Z"
   },
   {
    "duration": 17,
    "start_time": "2022-08-19T09:38:42.511Z"
   },
   {
    "duration": 10,
    "start_time": "2022-08-19T09:38:42.531Z"
   },
   {
    "duration": 12,
    "start_time": "2022-08-19T09:38:42.543Z"
   },
   {
    "duration": 56,
    "start_time": "2022-08-19T09:38:42.557Z"
   },
   {
    "duration": 53,
    "start_time": "2022-08-19T09:38:42.615Z"
   },
   {
    "duration": 55,
    "start_time": "2022-08-19T09:38:42.670Z"
   },
   {
    "duration": 1087,
    "start_time": "2022-08-19T09:38:42.727Z"
   },
   {
    "duration": 1123,
    "start_time": "2022-08-19T09:38:43.815Z"
   },
   {
    "duration": 1090,
    "start_time": "2022-08-19T09:38:44.940Z"
   },
   {
    "duration": 1228,
    "start_time": "2022-08-19T09:38:46.032Z"
   },
   {
    "duration": 1257,
    "start_time": "2022-08-19T09:38:47.262Z"
   },
   {
    "duration": 6,
    "start_time": "2022-08-19T09:38:48.521Z"
   },
   {
    "duration": 8,
    "start_time": "2022-08-19T09:38:48.528Z"
   },
   {
    "duration": 8,
    "start_time": "2022-08-19T09:38:48.538Z"
   },
   {
    "duration": 500,
    "start_time": "2022-08-19T09:38:48.548Z"
   },
   {
    "duration": 1400,
    "start_time": "2022-08-19T09:44:19.682Z"
   },
   {
    "duration": 43,
    "start_time": "2022-08-19T09:44:21.084Z"
   },
   {
    "duration": 3,
    "start_time": "2022-08-19T09:44:21.129Z"
   },
   {
    "duration": 17,
    "start_time": "2022-08-19T09:44:21.134Z"
   },
   {
    "duration": 13,
    "start_time": "2022-08-19T09:44:21.152Z"
   },
   {
    "duration": 7,
    "start_time": "2022-08-19T09:44:21.167Z"
   },
   {
    "duration": 23,
    "start_time": "2022-08-19T09:44:21.176Z"
   },
   {
    "duration": 38,
    "start_time": "2022-08-19T09:44:21.211Z"
   },
   {
    "duration": 34,
    "start_time": "2022-08-19T09:44:21.251Z"
   },
   {
    "duration": 1099,
    "start_time": "2022-08-19T09:44:21.287Z"
   },
   {
    "duration": 1254,
    "start_time": "2022-08-19T09:44:22.387Z"
   },
   {
    "duration": 1091,
    "start_time": "2022-08-19T09:44:23.643Z"
   },
   {
    "duration": 1249,
    "start_time": "2022-08-19T09:44:24.736Z"
   },
   {
    "duration": 1412,
    "start_time": "2022-08-19T09:44:25.987Z"
   },
   {
    "duration": 6,
    "start_time": "2022-08-19T09:44:27.400Z"
   },
   {
    "duration": 5,
    "start_time": "2022-08-19T09:44:27.408Z"
   },
   {
    "duration": 5,
    "start_time": "2022-08-19T09:44:27.414Z"
   },
   {
    "duration": 529,
    "start_time": "2022-08-19T09:44:27.421Z"
   },
   {
    "duration": 7,
    "start_time": "2022-08-19T09:44:27.952Z"
   },
   {
    "duration": 94665,
    "start_time": "2022-08-19T09:44:27.960Z"
   },
   {
    "duration": 4,
    "start_time": "2022-08-19T09:47:03.593Z"
   },
   {
    "duration": 39,
    "start_time": "2022-08-19T09:47:03.753Z"
   },
   {
    "duration": 3,
    "start_time": "2022-08-19T09:47:03.929Z"
   },
   {
    "duration": 12,
    "start_time": "2022-08-19T09:47:04.081Z"
   },
   {
    "duration": 7,
    "start_time": "2022-08-19T09:47:04.428Z"
   },
   {
    "duration": 8,
    "start_time": "2022-08-19T09:47:04.585Z"
   },
   {
    "duration": 22,
    "start_time": "2022-08-19T09:47:04.930Z"
   },
   {
    "duration": 39,
    "start_time": "2022-08-19T09:47:05.604Z"
   },
   {
    "duration": 37,
    "start_time": "2022-08-19T09:47:05.945Z"
   },
   {
    "duration": 1223,
    "start_time": "2022-08-19T09:47:06.283Z"
   },
   {
    "duration": 1304,
    "start_time": "2022-08-19T09:47:07.510Z"
   },
   {
    "duration": 1070,
    "start_time": "2022-08-19T09:47:08.816Z"
   },
   {
    "duration": 1345,
    "start_time": "2022-08-19T09:47:09.888Z"
   },
   {
    "duration": 1315,
    "start_time": "2022-08-19T09:47:11.235Z"
   },
   {
    "duration": 6,
    "start_time": "2022-08-19T09:47:12.552Z"
   },
   {
    "duration": 48,
    "start_time": "2022-08-19T09:47:12.559Z"
   },
   {
    "duration": 23,
    "start_time": "2022-08-19T09:47:12.610Z"
   },
   {
    "duration": 675,
    "start_time": "2022-08-19T09:47:12.636Z"
   },
   {
    "duration": 1293,
    "start_time": "2022-08-19T09:48:24.818Z"
   },
   {
    "duration": 12,
    "start_time": "2022-08-19T09:49:24.600Z"
   },
   {
    "duration": 4,
    "start_time": "2022-08-19T09:51:29.718Z"
   },
   {
    "duration": 4,
    "start_time": "2022-08-19T09:51:34.679Z"
   },
   {
    "duration": 114,
    "start_time": "2022-08-19T09:51:35.158Z"
   },
   {
    "duration": 33097,
    "start_time": "2022-08-19T09:51:46.442Z"
   },
   {
    "duration": 11,
    "start_time": "2022-08-19T09:54:32.234Z"
   },
   {
    "duration": 9,
    "start_time": "2022-08-19T09:56:27.452Z"
   },
   {
    "duration": 9,
    "start_time": "2022-08-19T09:57:02.236Z"
   },
   {
    "duration": 12,
    "start_time": "2022-08-19T09:57:42.658Z"
   },
   {
    "duration": 908,
    "start_time": "2022-08-19T09:59:35.422Z"
   },
   {
    "duration": 8,
    "start_time": "2022-08-19T10:00:01.693Z"
   },
   {
    "duration": 1237,
    "start_time": "2022-08-19T10:00:27.701Z"
   },
   {
    "duration": 274,
    "start_time": "2022-08-19T10:00:37.856Z"
   },
   {
    "duration": 8,
    "start_time": "2022-08-19T10:00:46.703Z"
   },
   {
    "duration": 9,
    "start_time": "2022-08-19T10:00:59.170Z"
   },
   {
    "duration": 13,
    "start_time": "2022-08-19T10:01:13.050Z"
   },
   {
    "duration": 779,
    "start_time": "2022-08-19T10:19:26.339Z"
   },
   {
    "duration": 98,
    "start_time": "2022-08-19T10:19:27.120Z"
   },
   {
    "duration": 12,
    "start_time": "2022-08-19T10:19:40.647Z"
   },
   {
    "duration": 1110,
    "start_time": "2022-08-19T10:19:54.802Z"
   },
   {
    "duration": 11,
    "start_time": "2022-08-19T10:19:55.914Z"
   },
   {
    "duration": 12,
    "start_time": "2022-08-19T10:20:06.442Z"
   },
   {
    "duration": 1355,
    "start_time": "2022-08-19T10:26:36.784Z"
   },
   {
    "duration": 42,
    "start_time": "2022-08-19T10:26:38.140Z"
   },
   {
    "duration": 3,
    "start_time": "2022-08-19T10:26:38.184Z"
   },
   {
    "duration": 11,
    "start_time": "2022-08-19T10:26:38.189Z"
   },
   {
    "duration": 12,
    "start_time": "2022-08-19T10:26:38.203Z"
   },
   {
    "duration": 10,
    "start_time": "2022-08-19T10:26:38.216Z"
   },
   {
    "duration": 22,
    "start_time": "2022-08-19T10:26:38.228Z"
   },
   {
    "duration": 38,
    "start_time": "2022-08-19T10:26:38.251Z"
   },
   {
    "duration": 34,
    "start_time": "2022-08-19T10:26:38.311Z"
   },
   {
    "duration": 1052,
    "start_time": "2022-08-19T10:26:38.346Z"
   },
   {
    "duration": 1163,
    "start_time": "2022-08-19T10:26:39.400Z"
   },
   {
    "duration": 1106,
    "start_time": "2022-08-19T10:26:40.564Z"
   },
   {
    "duration": 1350,
    "start_time": "2022-08-19T10:26:41.671Z"
   },
   {
    "duration": 1295,
    "start_time": "2022-08-19T10:26:43.024Z"
   },
   {
    "duration": 8,
    "start_time": "2022-08-19T10:26:44.320Z"
   },
   {
    "duration": 13,
    "start_time": "2022-08-19T10:26:44.329Z"
   },
   {
    "duration": 8,
    "start_time": "2022-08-19T10:26:44.343Z"
   },
   {
    "duration": 505,
    "start_time": "2022-08-19T10:26:44.352Z"
   },
   {
    "duration": 7,
    "start_time": "2022-08-19T10:26:44.859Z"
   },
   {
    "duration": 92257,
    "start_time": "2022-08-19T10:26:44.867Z"
   },
   {
    "duration": 1184,
    "start_time": "2022-08-19T10:28:17.126Z"
   },
   {
    "duration": 11,
    "start_time": "2022-08-19T10:28:18.312Z"
   },
   {
    "duration": 3,
    "start_time": "2022-08-19T10:28:18.325Z"
   },
   {
    "duration": 34286,
    "start_time": "2022-08-19T10:28:18.329Z"
   },
   {
    "duration": 16,
    "start_time": "2022-08-19T10:28:52.616Z"
   },
   {
    "duration": 30,
    "start_time": "2022-08-19T10:28:52.635Z"
   },
   {
    "duration": 1302,
    "start_time": "2022-08-19T10:29:38.769Z"
   },
   {
    "duration": 43,
    "start_time": "2022-08-19T10:29:40.073Z"
   },
   {
    "duration": 3,
    "start_time": "2022-08-19T10:29:40.118Z"
   },
   {
    "duration": 14,
    "start_time": "2022-08-19T10:29:40.123Z"
   },
   {
    "duration": 7,
    "start_time": "2022-08-19T10:29:40.139Z"
   },
   {
    "duration": 9,
    "start_time": "2022-08-19T10:29:40.147Z"
   },
   {
    "duration": 18,
    "start_time": "2022-08-19T10:29:40.158Z"
   },
   {
    "duration": 70,
    "start_time": "2022-08-19T10:29:40.178Z"
   },
   {
    "duration": 66,
    "start_time": "2022-08-19T10:29:40.249Z"
   },
   {
    "duration": 1088,
    "start_time": "2022-08-19T10:29:40.317Z"
   },
   {
    "duration": 1163,
    "start_time": "2022-08-19T10:29:41.406Z"
   },
   {
    "duration": 1386,
    "start_time": "2022-08-19T10:29:42.571Z"
   },
   {
    "duration": 1267,
    "start_time": "2022-08-19T10:29:43.959Z"
   },
   {
    "duration": 1312,
    "start_time": "2022-08-19T10:29:45.227Z"
   },
   {
    "duration": 7,
    "start_time": "2022-08-19T10:29:46.541Z"
   },
   {
    "duration": 8,
    "start_time": "2022-08-19T10:29:46.550Z"
   },
   {
    "duration": 5,
    "start_time": "2022-08-19T10:29:46.560Z"
   },
   {
    "duration": 655,
    "start_time": "2022-08-19T10:29:46.566Z"
   },
   {
    "duration": 7,
    "start_time": "2022-08-19T10:29:47.223Z"
   },
   {
    "duration": 94873,
    "start_time": "2022-08-19T10:29:47.232Z"
   },
   {
    "duration": 1210,
    "start_time": "2022-08-19T10:31:22.107Z"
   },
   {
    "duration": 97,
    "start_time": "2022-08-19T10:31:23.319Z"
   },
   {
    "duration": 5,
    "start_time": "2022-08-19T10:31:23.417Z"
   },
   {
    "duration": 33612,
    "start_time": "2022-08-19T10:31:23.424Z"
   },
   {
    "duration": 12,
    "start_time": "2022-08-19T10:31:57.037Z"
   },
   {
    "duration": 13,
    "start_time": "2022-08-19T10:32:22.155Z"
   },
   {
    "duration": 1355,
    "start_time": "2022-08-19T10:32:32.242Z"
   },
   {
    "duration": 42,
    "start_time": "2022-08-19T10:32:33.598Z"
   },
   {
    "duration": 2,
    "start_time": "2022-08-19T10:32:33.642Z"
   },
   {
    "duration": 17,
    "start_time": "2022-08-19T10:32:33.646Z"
   },
   {
    "duration": 7,
    "start_time": "2022-08-19T10:32:33.664Z"
   },
   {
    "duration": 19,
    "start_time": "2022-08-19T10:32:33.672Z"
   },
   {
    "duration": 24,
    "start_time": "2022-08-19T10:32:33.692Z"
   },
   {
    "duration": 59,
    "start_time": "2022-08-19T10:32:33.717Z"
   },
   {
    "duration": 48,
    "start_time": "2022-08-19T10:32:33.778Z"
   },
   {
    "duration": 1067,
    "start_time": "2022-08-19T10:32:33.828Z"
   },
   {
    "duration": 1102,
    "start_time": "2022-08-19T10:32:34.896Z"
   },
   {
    "duration": 1066,
    "start_time": "2022-08-19T10:32:36.000Z"
   },
   {
    "duration": 1215,
    "start_time": "2022-08-19T10:32:37.068Z"
   },
   {
    "duration": 1282,
    "start_time": "2022-08-19T10:32:38.285Z"
   },
   {
    "duration": 6,
    "start_time": "2022-08-19T10:32:39.569Z"
   },
   {
    "duration": 19,
    "start_time": "2022-08-19T10:32:39.576Z"
   },
   {
    "duration": 21,
    "start_time": "2022-08-19T10:32:39.596Z"
   },
   {
    "duration": 562,
    "start_time": "2022-08-19T10:32:39.618Z"
   },
   {
    "duration": 8,
    "start_time": "2022-08-19T10:32:40.181Z"
   },
   {
    "duration": 1587,
    "start_time": "2022-08-20T08:39:37.171Z"
   },
   {
    "duration": 86,
    "start_time": "2022-08-20T08:39:38.761Z"
   },
   {
    "duration": 3,
    "start_time": "2022-08-20T08:39:38.849Z"
   },
   {
    "duration": 16,
    "start_time": "2022-08-20T08:39:38.854Z"
   },
   {
    "duration": 7,
    "start_time": "2022-08-20T08:39:38.872Z"
   },
   {
    "duration": 7,
    "start_time": "2022-08-20T08:39:38.880Z"
   },
   {
    "duration": 24,
    "start_time": "2022-08-20T08:39:39.015Z"
   },
   {
    "duration": 40,
    "start_time": "2022-08-20T08:39:40.648Z"
   },
   {
    "duration": 38,
    "start_time": "2022-08-20T08:39:42.173Z"
   },
   {
    "duration": 1354,
    "start_time": "2022-08-20T08:45:06.639Z"
   },
   {
    "duration": 45,
    "start_time": "2022-08-20T08:45:07.995Z"
   },
   {
    "duration": 3,
    "start_time": "2022-08-20T08:45:08.041Z"
   },
   {
    "duration": 17,
    "start_time": "2022-08-20T08:45:08.046Z"
   },
   {
    "duration": 7,
    "start_time": "2022-08-20T08:45:08.064Z"
   },
   {
    "duration": 7,
    "start_time": "2022-08-20T08:45:08.073Z"
   },
   {
    "duration": 19,
    "start_time": "2022-08-20T08:45:08.150Z"
   },
   {
    "duration": 42,
    "start_time": "2022-08-20T08:45:09.162Z"
   },
   {
    "duration": 40,
    "start_time": "2022-08-20T08:45:09.598Z"
   },
   {
    "duration": 1867,
    "start_time": "2022-08-20T08:45:10.053Z"
   },
   {
    "duration": 67,
    "start_time": "2022-08-20T08:45:37.330Z"
   },
   {
    "duration": 120,
    "start_time": "2022-08-20T08:56:37.151Z"
   },
   {
    "duration": 14,
    "start_time": "2022-08-20T08:56:55.027Z"
   },
   {
    "duration": 97,
    "start_time": "2022-08-20T08:57:25.150Z"
   },
   {
    "duration": 6,
    "start_time": "2022-08-20T08:57:42.730Z"
   },
   {
    "duration": 861,
    "start_time": "2022-08-20T08:57:43.734Z"
   },
   {
    "duration": 201,
    "start_time": "2022-08-20T08:58:06.144Z"
   },
   {
    "duration": 7,
    "start_time": "2022-08-20T09:01:15.922Z"
   },
   {
    "duration": 420,
    "start_time": "2022-08-20T09:02:49.189Z"
   },
   {
    "duration": 739,
    "start_time": "2022-08-20T09:03:35.945Z"
   },
   {
    "duration": 16,
    "start_time": "2022-08-20T09:04:04.688Z"
   },
   {
    "duration": 14,
    "start_time": "2022-08-20T09:06:09.225Z"
   },
   {
    "duration": 2427,
    "start_time": "2022-08-20T09:06:25.362Z"
   },
   {
    "duration": 2055,
    "start_time": "2022-08-20T09:06:43.193Z"
   },
   {
    "duration": 1632,
    "start_time": "2022-08-20T09:09:52.672Z"
   },
   {
    "duration": 1997,
    "start_time": "2022-08-20T09:10:12.427Z"
   },
   {
    "duration": 941,
    "start_time": "2022-08-20T09:10:55.732Z"
   },
   {
    "duration": 4,
    "start_time": "2022-08-20T10:09:26.384Z"
   },
   {
    "duration": 40,
    "start_time": "2022-08-20T10:09:26.566Z"
   },
   {
    "duration": 2,
    "start_time": "2022-08-20T10:09:26.943Z"
   },
   {
    "duration": 11,
    "start_time": "2022-08-20T10:09:27.198Z"
   },
   {
    "duration": 8,
    "start_time": "2022-08-20T10:09:27.655Z"
   },
   {
    "duration": 8,
    "start_time": "2022-08-20T10:09:27.886Z"
   },
   {
    "duration": 18,
    "start_time": "2022-08-20T10:09:28.327Z"
   },
   {
    "duration": 51,
    "start_time": "2022-08-20T10:09:29.422Z"
   },
   {
    "duration": 39,
    "start_time": "2022-08-20T10:09:32.672Z"
   },
   {
    "duration": 898,
    "start_time": "2022-08-20T10:09:45.678Z"
   },
   {
    "duration": 1201,
    "start_time": "2022-08-20T10:10:17.682Z"
   },
   {
    "duration": 543,
    "start_time": "2022-08-20T10:11:11.939Z"
   }
  ],
  "kernelspec": {
   "display_name": "Python 3",
   "language": "python",
   "name": "python3"
  },
  "language_info": {
   "codemirror_mode": {
    "name": "ipython",
    "version": 3
   },
   "file_extension": ".py",
   "mimetype": "text/x-python",
   "name": "python",
   "nbconvert_exporter": "python",
   "pygments_lexer": "ipython3",
   "version": "3.6.3"
  },
  "toc": {
   "base_numbering": 1,
   "nav_menu": {},
   "number_sections": true,
   "sideBar": true,
   "skip_h1_title": true,
   "title_cell": "Table of Contents",
   "title_sidebar": "Contents",
   "toc_cell": false,
   "toc_position": {},
   "toc_section_display": true,
   "toc_window_display": false
  }
 },
 "nbformat": 4,
 "nbformat_minor": 2
}
